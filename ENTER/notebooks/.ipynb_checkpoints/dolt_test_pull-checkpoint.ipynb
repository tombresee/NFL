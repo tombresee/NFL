{
 "cells": [
  {
   "cell_type": "code",
   "execution_count": 4,
   "metadata": {},
   "outputs": [
    {
     "name": "stderr",
     "output_type": "stream",
     "text": [
      "11-28 15:44:34 doltpy.core.dolt INFO     Creating engine for Dolt SQL Server instance running on 127.0.0.1:3306\n"
     ]
    },
    {
     "ename": "AssertionError",
     "evalue": "dolt is not a valid Dolt repository",
     "output_type": "error",
     "traceback": [
      "\u001b[1;31m---------------------------------------------------------------------------\u001b[0m",
      "\u001b[1;31mAssertionError\u001b[0m                            Traceback (most recent call last)",
      "\u001b[1;32m<ipython-input-4-c063f5227689>\u001b[0m in \u001b[0;36m<module>\u001b[1;34m\u001b[0m\n\u001b[0;32m      6\u001b[0m \u001b[0mroster_path\u001b[0m \u001b[1;33m=\u001b[0m \u001b[1;34m'roster-data/roster.csv.gz'\u001b[0m\u001b[1;33m\u001b[0m\u001b[1;33m\u001b[0m\u001b[0m\n\u001b[0;32m      7\u001b[0m \u001b[1;33m\u001b[0m\u001b[0m\n\u001b[1;32m----> 8\u001b[1;33m \u001b[0mrepo\u001b[0m \u001b[1;33m=\u001b[0m \u001b[0mDolt\u001b[0m\u001b[1;33m(\u001b[0m\u001b[1;34m'dolt'\u001b[0m\u001b[1;33m)\u001b[0m\u001b[1;33m\u001b[0m\u001b[1;33m\u001b[0m\u001b[0m\n\u001b[0m\u001b[0;32m      9\u001b[0m \u001b[1;33m\u001b[0m\u001b[0m\n\u001b[0;32m     10\u001b[0m \u001b[1;31m# # Start with rosters CSV\u001b[0m\u001b[1;33m\u001b[0m\u001b[1;33m\u001b[0m\u001b[1;33m\u001b[0m\u001b[0m\n",
      "\u001b[1;32m~\\Anaconda3\\lib\\site-packages\\doltpy\\core\\dolt.py\u001b[0m in \u001b[0;36m__init__\u001b[1;34m(self, repo_dir, server_config)\u001b[0m\n\u001b[0;32m    174\u001b[0m \u001b[1;33m\u001b[0m\u001b[0m\n\u001b[0;32m    175\u001b[0m         \u001b[0merror_message\u001b[0m \u001b[1;33m=\u001b[0m \u001b[1;34m'{} is not a valid Dolt repository'\u001b[0m\u001b[1;33m.\u001b[0m\u001b[0mformat\u001b[0m\u001b[1;33m(\u001b[0m\u001b[0mself\u001b[0m\u001b[1;33m.\u001b[0m\u001b[0mrepo_dir\u001b[0m\u001b[1;33m(\u001b[0m\u001b[1;33m)\u001b[0m\u001b[1;33m)\u001b[0m\u001b[1;33m\u001b[0m\u001b[1;33m\u001b[0m\u001b[0m\n\u001b[1;32m--> 176\u001b[1;33m         \u001b[1;32massert\u001b[0m \u001b[0mos\u001b[0m\u001b[1;33m.\u001b[0m\u001b[0mpath\u001b[0m\u001b[1;33m.\u001b[0m\u001b[0mexists\u001b[0m\u001b[1;33m(\u001b[0m\u001b[0mos\u001b[0m\u001b[1;33m.\u001b[0m\u001b[0mpath\u001b[0m\u001b[1;33m.\u001b[0m\u001b[0mjoin\u001b[0m\u001b[1;33m(\u001b[0m\u001b[0mself\u001b[0m\u001b[1;33m.\u001b[0m\u001b[0mrepo_dir\u001b[0m\u001b[1;33m(\u001b[0m\u001b[1;33m)\u001b[0m\u001b[1;33m,\u001b[0m \u001b[1;34m'.dolt'\u001b[0m\u001b[1;33m)\u001b[0m\u001b[1;33m)\u001b[0m\u001b[1;33m,\u001b[0m \u001b[0merror_message\u001b[0m\u001b[1;33m\u001b[0m\u001b[1;33m\u001b[0m\u001b[0m\n\u001b[0m\u001b[0;32m    177\u001b[0m \u001b[1;33m\u001b[0m\u001b[0m\n\u001b[0;32m    178\u001b[0m     \u001b[1;32mdef\u001b[0m \u001b[0mrepo_dir\u001b[0m\u001b[1;33m(\u001b[0m\u001b[0mself\u001b[0m\u001b[1;33m)\u001b[0m\u001b[1;33m:\u001b[0m\u001b[1;33m\u001b[0m\u001b[1;33m\u001b[0m\u001b[0m\n",
      "\u001b[1;31mAssertionError\u001b[0m: dolt is not a valid Dolt repository"
     ]
    }
   ],
   "source": [
    "\n",
    "import pandas as pd \n",
    "\n",
    "from doltpy.core import Dolt\n",
    "\n",
    "url_base = 'https://raw.githubusercontent.com/guga31bb/nflfastR-data/master/'\n",
    "roster_path = 'roster-data/roster.csv.gz'\n",
    "\n",
    "repo = Dolt('dolt')\n",
    "\n",
    "# # Start with rosters CSV\n",
    "# rosters_url = url_base + roster_path\n",
    "# rosters_df  = pd.read_csv(rosters_url,\n",
    "#                           compression='gzip',\n",
    "#                           low_memory=False)\n",
    "\n",
    "# # Grab the teams table from rosters dataframe\n",
    "# filter_col = [col for col in rosters_df if col.startswith('team.')]\n",
    "\n",
    "# teams_df = rosters_df[filter_col]\n",
    "# teams_df = teams_df.drop_duplicates()\n",
    "# teams_df = teams_df.rename(columns=lambda x: x.replace('team.', ''))\n",
    "\n",
    "# teams_csv_file = 'teams.csv'\n",
    "# teams_pks = ['season', 'teamId']\n",
    "\n",
    "# repo.import_df('teams', teams_df, teams_pks, 'update')\n",
    "\n",
    "# # Grab the players table from the rosters dataframe\n",
    "# filter_col = [col for col in rosters_df if col.startswith('teamPlayers.')]\n",
    "# filter_col = filter_col + ['team.season', 'team.teamId']\n",
    "\n",
    "# players_df = rosters_df[filter_col]\n",
    "# players_df = players_df.rename(columns=lambda x: x.replace('team.', ''))\n",
    "# players_df = players_df.rename(columns=lambda x: x.replace('teamPlayers.', ''))\n",
    "\n",
    "# players_df['jerseyNumber'] = players_df['jerseyNumber'].fillna('')\n",
    "# players_df['jerseyNumber'] = players_df['jerseyNumber'].astype(str)\n",
    "# players_df['jerseyNumber'] = players_df['jerseyNumber'].str.split('.')\n",
    "# players_df['jerseyNumber'] = players_df['jerseyNumber'].str[0]\n",
    "# players_df['birthDate'] = pd.to_datetime(players_df['birthDate'])\n",
    "\n",
    "# players_csv_file = 'players.csv'\n",
    "# players_pks = ['season', 'teamId', 'nflId']\n",
    "# repo.import_df('players', players_df, players_pks, 'update')"
   ]
  },
  {
   "cell_type": "code",
   "execution_count": null,
   "metadata": {},
   "outputs": [],
   "source": []
  }
 ],
 "metadata": {
  "kernelspec": {
   "display_name": "Python 3",
   "language": "python",
   "name": "python3"
  },
  "language_info": {
   "codemirror_mode": {
    "name": "ipython",
    "version": 3
   },
   "file_extension": ".py",
   "mimetype": "text/x-python",
   "name": "python",
   "nbconvert_exporter": "python",
   "pygments_lexer": "ipython3",
   "version": "3.8.5"
  }
 },
 "nbformat": 4,
 "nbformat_minor": 4
}
